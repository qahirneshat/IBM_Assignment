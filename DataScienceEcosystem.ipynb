{
 "cells": [
  {
   "cell_type": "markdown",
   "id": "a3998bbe",
   "metadata": {},
   "source": [
    "# Data Science Tools and Ecosystem"
   ]
  },
  {
   "cell_type": "markdown",
   "id": "192e48fb",
   "metadata": {},
   "source": [
    "In this notebook, Data Science Tools and Ecosystem are summarized. I am also trying to add some more texts here so that it looks original, not just copy-paste. You fellow students can understand what I am talking about."
   ]
  },
  {
   "cell_type": "markdown",
   "id": "ad5ad355",
   "metadata": {},
   "source": [
    "**Objectives:**\n",
    "\n",
    "- List popular languages for Data Science\n",
    "- Famous used libraries\n",
    "- Ordered List\n",
    "- Unordered list\n",
    "- Arithmathic Operations"
   ]
  },
  {
   "cell_type": "markdown",
   "id": "5d62ba14",
   "metadata": {},
   "source": [
    "Some of the popular languages that Data Scientists use are:\n",
    "\n",
    "1. Python\n",
    "2. R\n",
    "3. Scala\n",
    "4. SQL\n",
    "5. Julia"
   ]
  },
  {
   "cell_type": "markdown",
   "id": "aec3c8e2",
   "metadata": {},
   "source": [
    "Some of the commonly used libraries used by Data Scientists include:\n",
    "\n",
    "1. Scikit-learn\n",
    "2. Pandas\n",
    "3. Pandas\n",
    "4. Scipy\n",
    "5. Matplotlib\n",
    "6. Seaborn\n",
    "7. GGPLOT"
   ]
  },
  {
   "cell_type": "markdown",
   "id": "bf14819b",
   "metadata": {},
   "source": [
    "| Data Science Tools |\n",
    "|:---------- |\n",
    "| 1. Jupyter Notebook |\n",
    "| 2. RStudio |\n",
    "| 3. JupyterLab |\n"
   ]
  },
  {
   "cell_type": "markdown",
   "id": "1f0acc77",
   "metadata": {},
   "source": [
    "### Below are a few examples of evaluating arithmetic expressions in Python\n",
    "\n",
    "- For Addition use this symbol +\n",
    "- For Subtraction use this symbol -\n",
    "- For Division use this symbol /\n",
    "- For Multiplicaiton use this symbol *"
   ]
  },
  {
   "cell_type": "code",
   "execution_count": 2,
   "id": "f97b3789",
   "metadata": {},
   "outputs": [
    {
     "data": {
      "text/plain": [
       "17"
      ]
     },
     "execution_count": 2,
     "metadata": {},
     "output_type": "execute_result"
    }
   ],
   "source": [
    "#  This a simple arithmetic expression to mutiply then add integers\n",
    "\n",
    "(3*4)+5"
   ]
  },
  {
   "cell_type": "code",
   "execution_count": 3,
   "id": "9a8a217d",
   "metadata": {},
   "outputs": [
    {
     "name": "stdout",
     "output_type": "stream",
     "text": [
      "3.3333333333333335\n"
     ]
    }
   ],
   "source": [
    "# This will convert 200 minutes to hours by diving by 60\n",
    "\n",
    "minutes = 200\n",
    "seconds = 60\n",
    "hour = minutes / seconds\n",
    "\n",
    "print(hour)"
   ]
  },
  {
   "cell_type": "markdown",
   "id": "59b1c4ae",
   "metadata": {},
   "source": [
    "## Author :\n",
    "Qahir Neshat"
   ]
  },
  {
   "cell_type": "code",
   "execution_count": null,
   "id": "f997aa83",
   "metadata": {},
   "outputs": [],
   "source": []
  }
 ],
 "metadata": {
  "kernelspec": {
   "display_name": "Python 3 (ipykernel)",
   "language": "python",
   "name": "python3"
  },
  "language_info": {
   "codemirror_mode": {
    "name": "ipython",
    "version": 3
   },
   "file_extension": ".py",
   "mimetype": "text/x-python",
   "name": "python",
   "nbconvert_exporter": "python",
   "pygments_lexer": "ipython3",
   "version": "3.9.13"
  }
 },
 "nbformat": 4,
 "nbformat_minor": 5
}
